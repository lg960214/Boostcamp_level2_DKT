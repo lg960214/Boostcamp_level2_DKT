{
 "cells": [
  {
   "cell_type": "code",
   "execution_count": 2,
   "metadata": {
    "ExecuteTime": {
     "end_time": "2021-05-24T09:49:29.375544Z",
     "start_time": "2021-05-24T09:49:28.999092Z"
    },
    "id": "Uq_TJqbdhfQu"
   },
   "outputs": [],
   "source": [
    "import pandas as pd\n",
    "import os\n",
    "import random\n",
    "from tqdm import tqdm\n",
    "from sklearn.preprocessing import StandardScaler\n",
    "import matplotlib.pyplot as plt\n",
    "import seaborn as sns\n",
    "import collections\n",
    "tqdm.pandas()\n",
    "import lightgbm as lgb\n",
    "from sklearn.metrics import roc_auc_score\n",
    "from sklearn.metrics import accuracy_score\n",
    "import numpy as np\n",
    "\n",
    "from scipy import stats\n",
    "from sklearn.model_selection import KFold\n",
    "import xgboost as xgb\n",
    "from catboost import CatBoostRegressor\n",
    "from sklearn import linear_model\n",
    "from catboost import CatBoostClassifier"
   ]
  },
  {
   "cell_type": "markdown",
   "metadata": {},
   "source": [
    "### 마지막 s 번째 행까지 분리"
   ]
  },
  {
   "cell_type": "code",
   "execution_count": 3,
   "metadata": {},
   "outputs": [],
   "source": [
    "def custom_train_test_split(a,s):\n",
    "    #test데이터셋은 각 유저의 마지막 interaction 추출\n",
    "    test = a[a['userID'] != a['userID'].shift(-s)]\n",
    "    train_ind = list(set(a.index)-set(test.index))\n",
    "    train = a.loc[train_ind]\n",
    "    return train, test"
   ]
  },
  {
   "cell_type": "markdown",
   "metadata": {},
   "source": [
    "### 유저 별 test_id 별 인덱싱"
   ]
  },
  {
   "cell_type": "code",
   "execution_count": 4,
   "metadata": {},
   "outputs": [],
   "source": [
    "def make_new_ind(a):\n",
    "    new_a_ind = [1]\n",
    "    a_testid = list(a['testId'])\n",
    "    a_ass = list(a['assessmentItemID'])\n",
    "    start_ind = 1\n",
    "    ind_box = [a_ass[0]]\n",
    "    for i in range(1,len(a)):\n",
    "        now_ass = a_ass[i]\n",
    "        if a_testid[i] != a_testid[i-1]:\n",
    "            start_ind += 1\n",
    "            ind_box = []\n",
    "        else:   \n",
    "            if now_ass in ind_box:\n",
    "                start_ind += 1\n",
    "                ind_box = []\n",
    "        ind_box.append(now_ass)\n",
    "        new_a_ind.append(start_ind)\n",
    "    return new_a_ind"
   ]
  },
  {
   "cell_type": "markdown",
   "metadata": {
    "id": "QZlm5HSmhfQv"
   },
   "source": [
    "## 1. 데이터 로딩"
   ]
  },
  {
   "cell_type": "code",
   "execution_count": 5,
   "metadata": {
    "ExecuteTime": {
     "end_time": "2021-05-24T09:49:29.678737Z",
     "start_time": "2021-05-24T09:49:29.376581Z"
    },
    "id": "s6qgJ8MLhfQw"
   },
   "outputs": [],
   "source": [
    "df = pd.read_csv('train_data.csv', parse_dates=['Timestamp'])\n",
    "df.sort_values(by=['userID','Timestamp'], inplace=True)"
   ]
  },
  {
   "cell_type": "code",
   "execution_count": 6,
   "metadata": {},
   "outputs": [],
   "source": [
    "total_unique_testid = df.groupby('userID').apply(make_new_ind)"
   ]
  },
  {
   "cell_type": "code",
   "execution_count": 7,
   "metadata": {},
   "outputs": [],
   "source": [
    "df_new_index = []\n",
    "for i in total_unique_testid:\n",
    "    for j in i:\n",
    "        df_new_index.append(j)"
   ]
  },
  {
   "cell_type": "code",
   "execution_count": 8,
   "metadata": {},
   "outputs": [],
   "source": [
    "testid_numbering = {}\n",
    "for n,i in enumerate(df.testId.unique()):\n",
    "    testid_numbering[i]=n"
   ]
  },
  {
   "cell_type": "code",
   "execution_count": 9,
   "metadata": {},
   "outputs": [],
   "source": [
    "df['unique_testid'] = df_new_index"
   ]
  },
  {
   "cell_type": "code",
   "execution_count": 10,
   "metadata": {},
   "outputs": [],
   "source": [
    "# timestamp 차이 행마다 넣기\n",
    "df['time_diff'] = df.Timestamp.diff()"
   ]
  },
  {
   "cell_type": "code",
   "execution_count": 11,
   "metadata": {},
   "outputs": [],
   "source": [
    "# 시험지의 첫번째 문제는 이전 시험지 마지막 문제와의 시간 차이 계산되는데, 이거를 none 값으로 주기 위함\n",
    "first_index_list = list(df.drop_duplicates(['userID','unique_testid']).index)"
   ]
  },
  {
   "cell_type": "code",
   "execution_count": 12,
   "metadata": {},
   "outputs": [],
   "source": [
    "df1 = df.loc[first_index_list]"
   ]
  },
  {
   "cell_type": "code",
   "execution_count": 13,
   "metadata": {},
   "outputs": [],
   "source": [
    "no_first_index_list = list(set(df.index) - set(df1.index))\n",
    "df2 = df.loc[no_first_index_list]"
   ]
  },
  {
   "cell_type": "code",
   "execution_count": 14,
   "metadata": {},
   "outputs": [],
   "source": [
    "df1['time_diff'] = None"
   ]
  },
  {
   "cell_type": "code",
   "execution_count": 15,
   "metadata": {},
   "outputs": [],
   "source": [
    "df = pd.concat([df1,df2])"
   ]
  },
  {
   "cell_type": "code",
   "execution_count": 16,
   "metadata": {},
   "outputs": [],
   "source": [
    "df.sort_values(by=['userID','Timestamp'], inplace=True)"
   ]
  },
  {
   "cell_type": "code",
   "execution_count": 17,
   "metadata": {},
   "outputs": [],
   "source": [
    "# test 내 문제들에 순서 매기기 위함\n",
    "def user_test_time_sort(a):\n",
    "    start = 1\n",
    "    test_time_sort = [start]\n",
    "    ut = list(a['unique_testid'])\n",
    "    for i in range(1,len(a)):\n",
    "        start += 1\n",
    "        if ut[i] != ut[i-1]:\n",
    "            start = 1\n",
    "        test_time_sort.append(start)    \n",
    "    return test_time_sort"
   ]
  },
  {
   "cell_type": "code",
   "execution_count": 18,
   "metadata": {},
   "outputs": [],
   "source": [
    "all_test_time_sort = df.groupby('userID').apply(user_test_time_sort)"
   ]
  },
  {
   "cell_type": "code",
   "execution_count": 19,
   "metadata": {},
   "outputs": [],
   "source": [
    "atts_list = []\n",
    "for i in all_test_time_sort:\n",
    "    for j in i:\n",
    "        atts_list.append(j)"
   ]
  },
  {
   "cell_type": "code",
   "execution_count": 20,
   "metadata": {},
   "outputs": [],
   "source": [
    "df['test_time_sort'] = atts_list"
   ]
  },
  {
   "cell_type": "code",
   "execution_count": 21,
   "metadata": {},
   "outputs": [],
   "source": [
    "# 시간 차이 seconds로 변환 2 \n",
    "df['seconds2'] = df.apply(lambda x : None if pd.isnull(x.time_diff) else x.time_diff.seconds , axis=1)"
   ]
  },
  {
   "cell_type": "code",
   "execution_count": 22,
   "metadata": {},
   "outputs": [],
   "source": [
    "# 시간 차이 seconds로 변환 (780초 이상은 780으로)\n",
    "df['seconds'] = df.apply(lambda x : None if pd.isnull(x.time_diff) else x.time_diff.seconds if x.time_diff < pd.Timedelta(seconds=780) else 780, axis=1)"
   ]
  },
  {
   "cell_type": "code",
   "execution_count": 23,
   "metadata": {},
   "outputs": [],
   "source": [
    "# test 별 소요 시간 평균\n",
    "seconds_mean = pd.DataFrame(df.groupby('testId').mean()['seconds'])\n",
    "seconds_mean.columns = [\"seconds_mean\"]\n",
    "df = pd.merge(df, seconds_mean, on=['testId'], how=\"left\")"
   ]
  },
  {
   "cell_type": "code",
   "execution_count": 24,
   "metadata": {},
   "outputs": [],
   "source": [
    "# assess 별 소요 시간 평균\n",
    "assess_seconds_mean = pd.DataFrame(df.groupby('assessmentItemID').mean()['seconds'])\n",
    "assess_seconds_mean.columns = [\"assess_seconds_mean\"]\n",
    "df = pd.merge(df, assess_seconds_mean, on=['assessmentItemID'], how=\"left\")"
   ]
  },
  {
   "cell_type": "code",
   "execution_count": 25,
   "metadata": {},
   "outputs": [],
   "source": [
    "# tag 별 소요 시간 평균\n",
    "tag_seconds_mean = pd.DataFrame(df.groupby('KnowledgeTag').mean()['seconds'])\n",
    "tag_seconds_mean.columns = [\"tag_seconds_mean\"]\n",
    "df = pd.merge(df, tag_seconds_mean, on=['KnowledgeTag'], how=\"left\")"
   ]
  },
  {
   "cell_type": "code",
   "execution_count": 26,
   "metadata": {},
   "outputs": [],
   "source": [
    "# 바로 직전 n번째 문제 맞았나 틀렸나 변수\n",
    "def make_before_correct(a):\n",
    "    return list(a['answerCode'].shift(1))"
   ]
  },
  {
   "cell_type": "code",
   "execution_count": 27,
   "metadata": {},
   "outputs": [],
   "source": [
    "def make_before_correct2(a):\n",
    "    return list(a['answerCode'].shift(2))"
   ]
  },
  {
   "cell_type": "code",
   "execution_count": 28,
   "metadata": {},
   "outputs": [],
   "source": [
    "def make_before_correct3(a):\n",
    "    return list(a['answerCode'].shift(3))"
   ]
  },
  {
   "cell_type": "code",
   "execution_count": 29,
   "metadata": {},
   "outputs": [],
   "source": [
    "before_correct_list = df.groupby(['userID','unique_testid']).apply(make_before_correct)\n",
    "before_correct_list2 = df.groupby(['userID','unique_testid']).apply(make_before_correct2)\n",
    "before_correct_list3 = df.groupby(['userID','unique_testid']).apply(make_before_correct3)"
   ]
  },
  {
   "cell_type": "code",
   "execution_count": 30,
   "metadata": {},
   "outputs": [],
   "source": [
    "before_correct = []\n",
    "for i in before_correct_list:\n",
    "    for j in i:\n",
    "        before_correct.append(j)\n",
    "before_correct2 = []\n",
    "for i in before_correct_list2:\n",
    "    for j in i:\n",
    "        before_correct2.append(j)\n",
    "before_correct3 = []\n",
    "for i in before_correct_list3:\n",
    "    for j in i:\n",
    "        before_correct3.append(j)"
   ]
  },
  {
   "cell_type": "code",
   "execution_count": 31,
   "metadata": {},
   "outputs": [],
   "source": [
    "df['before_correct'] = before_correct\n",
    "df['before_correct2'] = before_correct2\n",
    "df['before_correct3'] = before_correct3"
   ]
  },
  {
   "cell_type": "code",
   "execution_count": 32,
   "metadata": {},
   "outputs": [],
   "source": [
    "# 최근 k 문제의 정답률 (자기 자신은 제외하기 위해서 빼줌)\n",
    "def rolling_mean(a,k):\n",
    "    return a['answerCode'].rolling(window=k).mean() - (a['answerCode'] / k)"
   ]
  },
  {
   "cell_type": "code",
   "execution_count": 33,
   "metadata": {},
   "outputs": [],
   "source": [
    "# 최근 k개의 test들 중 마지막 문제들의 정답비율 \n",
    "def user_last_ar(a,k):\n",
    "    return sum(a.drop_duplicates('unique_testid',keep='last').answerCode[-k:])"
   ]
  },
  {
   "cell_type": "code",
   "execution_count": 34,
   "metadata": {},
   "outputs": [],
   "source": [
    "rolling_20_list = df.groupby('userID').apply(rolling_mean,k=2)\n",
    "rolling_20 = []\n",
    "for i in rolling_20_list:\n",
    "    rolling_20.append(i)\n",
    "df['rolling_20'] = rolling_20\n",
    "\n",
    "rolling_10_list = df.groupby('userID').apply(rolling_mean,k=10)\n",
    "rolling_10 = []\n",
    "for i in rolling_10_list:\n",
    "    rolling_10.append(i)\n",
    "df['rolling_10'] = rolling_10\n",
    "\n",
    "rolling_5_list = df.groupby('userID').apply(rolling_mean,k=3)\n",
    "rolling_5 = []\n",
    "for i in rolling_5_list:\n",
    "    rolling_5.append(i)\n",
    "df['rolling_5'] = rolling_5\n",
    "\n",
    "rolling_15_list = df.groupby('userID').apply(rolling_mean,k=4)\n",
    "rolling_15 = []\n",
    "for i in rolling_15_list:\n",
    "    rolling_15.append(i)\n",
    "df['rolling_15'] = rolling_15"
   ]
  },
  {
   "cell_type": "markdown",
   "metadata": {},
   "source": [
    "### test 데이터셋도 train에 포함시킴"
   ]
  },
  {
   "cell_type": "code",
   "execution_count": 35,
   "metadata": {},
   "outputs": [],
   "source": [
    "test_df_origin = pd.read_csv('test_data.csv', parse_dates=['Timestamp'])\n",
    "test_df_origin.sort_values(by=['userID','Timestamp'], inplace=True)"
   ]
  },
  {
   "cell_type": "code",
   "execution_count": 36,
   "metadata": {},
   "outputs": [],
   "source": [
    "total_unique_testid = test_df_origin.groupby('userID').apply(make_new_ind)\n",
    "df_new_index = []\n",
    "for i in total_unique_testid:\n",
    "    for j in i:\n",
    "        df_new_index.append(j)"
   ]
  },
  {
   "cell_type": "code",
   "execution_count": 37,
   "metadata": {},
   "outputs": [],
   "source": [
    "test_df_origin['unique_testid'] = df_new_index"
   ]
  },
  {
   "cell_type": "code",
   "execution_count": 38,
   "metadata": {},
   "outputs": [],
   "source": [
    "test_df_origin['time_diff'] = test_df_origin.Timestamp.diff()\n",
    "first_index_list = list(test_df_origin.drop_duplicates(['userID','unique_testid']).index)\n",
    "df1 = test_df_origin.loc[first_index_list]\n",
    "no_first_index_list = list(set(test_df_origin.index) - set(df1.index))\n",
    "df2 = test_df_origin.loc[no_first_index_list]\n",
    "df1['time_diff'] = None\n",
    "test_df_origin = pd.concat([df1,df2])\n",
    "test_df_origin.sort_values(by=['userID','Timestamp'], inplace=True)\n",
    "test_df_origin['seconds2'] = test_df_origin.apply(lambda x : None if pd.isnull(x.time_diff) else x.time_diff.seconds, axis=1)\n",
    "test_df_origin['seconds'] = test_df_origin.apply(lambda x : None if pd.isnull(x.time_diff) else x.time_diff.seconds if x.time_diff < pd.Timedelta(seconds=780) else 780, axis=1)"
   ]
  },
  {
   "cell_type": "code",
   "execution_count": 39,
   "metadata": {},
   "outputs": [],
   "source": [
    "# test 별 소요 시간 평균\n",
    "seconds_mean = pd.DataFrame(test_df_origin.groupby('testId').mean()['seconds'])\n",
    "seconds_mean.columns = [\"seconds_mean\"]\n",
    "test_df_origin = pd.merge(test_df_origin, seconds_mean, on=['testId'], how=\"left\")"
   ]
  },
  {
   "cell_type": "code",
   "execution_count": 40,
   "metadata": {},
   "outputs": [],
   "source": [
    "# assess 별 소요 시간 평균\n",
    "assess_seconds_mean = pd.DataFrame(test_df_origin.groupby('assessmentItemID').mean()['seconds'])\n",
    "assess_seconds_mean.columns = [\"assess_seconds_mean\"]\n",
    "test_df_origin = pd.merge(test_df_origin, assess_seconds_mean, on=['assessmentItemID'], how=\"left\")"
   ]
  },
  {
   "cell_type": "code",
   "execution_count": 41,
   "metadata": {},
   "outputs": [],
   "source": [
    "# tag 별 소요 시간 평균\n",
    "tag_seconds_mean = pd.DataFrame(test_df_origin.groupby('KnowledgeTag').mean()['seconds'])\n",
    "tag_seconds_mean.columns = [\"assess_seconds_mean\"]\n",
    "test_df_origin = pd.merge(test_df_origin, tag_seconds_mean, on=['KnowledgeTag'], how=\"left\")"
   ]
  },
  {
   "cell_type": "code",
   "execution_count": 42,
   "metadata": {},
   "outputs": [],
   "source": [
    "all_test_time_sort = test_df_origin.groupby('userID').apply(user_test_time_sort)\n",
    "\n",
    "atts_list = []\n",
    "for i in all_test_time_sort:\n",
    "    for j in i:\n",
    "        atts_list.append(j)\n",
    "        \n",
    "test_df_origin['test_time_sort'] = atts_list"
   ]
  },
  {
   "cell_type": "code",
   "execution_count": 43,
   "metadata": {},
   "outputs": [],
   "source": [
    "before_correct_list = test_df_origin.groupby(['userID','unique_testid']).apply(make_before_correct)\n",
    "before_correct_list2 = test_df_origin.groupby(['userID','unique_testid']).apply(make_before_correct2)\n",
    "before_correct_list3 = test_df_origin.groupby(['userID','unique_testid']).apply(make_before_correct3)\n",
    "\n",
    "before_correct = []\n",
    "for i in before_correct_list:\n",
    "    for j in i:\n",
    "        before_correct.append(j)\n",
    "before_correct2 = []\n",
    "for i in before_correct_list2:\n",
    "    for j in i:\n",
    "        before_correct2.append(j)\n",
    "before_correct3 = []\n",
    "for i in before_correct_list3:\n",
    "    for j in i:\n",
    "        before_correct3.append(j)\n",
    "\n",
    "test_df_origin['before_correct'] = before_correct\n",
    "test_df_origin['before_correct2'] = before_correct2\n",
    "test_df_origin['before_correct3'] = before_correct3"
   ]
  },
  {
   "cell_type": "code",
   "execution_count": 44,
   "metadata": {},
   "outputs": [],
   "source": [
    "rolling_15_list = test_df_origin.groupby('userID').apply(rolling_mean,k=2)\n",
    "rolling_15 = []\n",
    "for i in rolling_15_list:\n",
    "    rolling_15.append(i)\n",
    "test_df_origin['rolling_15'] = rolling_15\n",
    "\n",
    "rolling_20_list = test_df_origin.groupby('userID').apply(rolling_mean,k=3)\n",
    "rolling_20 = []\n",
    "for i in rolling_20_list:\n",
    "    rolling_20.append(i)\n",
    "test_df_origin['rolling_20'] = rolling_20\n",
    "\n",
    "rolling_10_list = test_df_origin.groupby('userID').apply(rolling_mean,k=10)\n",
    "rolling_10 = []\n",
    "for i in rolling_10_list:\n",
    "    rolling_10.append(i)\n",
    "test_df_origin['rolling_10'] = rolling_10\n",
    "\n",
    "rolling_5_list = test_df_origin.groupby('userID').apply(rolling_mean,k=4)\n",
    "rolling_5 = []\n",
    "for i in rolling_5_list:\n",
    "    rolling_5.append(i)\n",
    "test_df_origin['rolling_5'] = rolling_5"
   ]
  },
  {
   "cell_type": "markdown",
   "metadata": {},
   "source": [
    "### test로 쓸 데이터랑 제출용 데이터는 분리시킴"
   ]
  },
  {
   "cell_type": "code",
   "execution_count": 45,
   "metadata": {},
   "outputs": [],
   "source": [
    "test_train, test_test_df = custom_train_test_split(test_df_origin,2)"
   ]
  },
  {
   "cell_type": "code",
   "execution_count": 46,
   "metadata": {},
   "outputs": [],
   "source": [
    "# train 용 답의 index 추출\n",
    "test_test_index = list(test_test_df.index)"
   ]
  },
  {
   "cell_type": "code",
   "execution_count": 47,
   "metadata": {},
   "outputs": [],
   "source": [
    "# train,test 합쳐서 훈련 \n",
    "new_df = pd.concat([test_df_origin,df])"
   ]
  },
  {
   "cell_type": "code",
   "execution_count": 48,
   "metadata": {},
   "outputs": [],
   "source": [
    "# test 내 문제 수\n",
    "def len_ass(a):\n",
    "    return a.assessmentItemID.nunique()"
   ]
  },
  {
   "cell_type": "markdown",
   "metadata": {
    "id": "p_oCGAgEhfQw"
   },
   "source": [
    "## 2. Feature Engineering"
   ]
  },
  {
   "cell_type": "code",
   "execution_count": 49,
   "metadata": {
    "ExecuteTime": {
     "end_time": "2021-05-24T09:49:29.682739Z",
     "start_time": "2021-05-24T09:49:28.979Z"
    },
    "id": "URNLoukChfQx"
   },
   "outputs": [],
   "source": [
    "def feature_engineering(df,tti):\n",
    "    drop_tti = list(set(df.index)-set(tti))\n",
    "    df2 = df.iloc[drop_tti]\n",
    "    \n",
    "    #유저들의 문제 풀이수, 정답 수, 정답률을 시간순으로 누적해서 계산\n",
    "    df['user_correct_answer'] = df.groupby('userID')['answerCode'].transform(lambda x: x.cumsum().shift(1))\n",
    "    df['user_total_answer'] = df.groupby('userID')['answerCode'].cumcount()\n",
    "    df['user_acc'] = df['user_correct_answer']/df['user_total_answer']\n",
    "    df['sort_assess'] = df.apply(lambda x : int(x['assessmentItemID'][-2:]),axis=1)\n",
    "    df['testid_numbering'] = df.apply(lambda x : testid_numbering[x.testId],axis=1)\n",
    "    # df['month'] = df.apply(lambda x: 1 if int(x.Timestamp.month) <11 else 0,axis=1)\n",
    "    # df['hour'] = df.apply(lambda x: int(x.Timestamp.hour),axis=1)\n",
    "    len_ass_df = pd.DataFrame(df.groupby('testId').apply(len_ass))\n",
    "    len_ass_df.columns = [\"len_ass\"]\n",
    "    df = pd.merge(df, len_ass_df, on=['testId'], how=\"left\")\n",
    "    # last_same_df = df.drop_duplicates(['userID','testId'],keep='last')\n",
    "    # last_same_df['last_same1'] = last_same_df.apply(lambda x : 1 if x.sort_assess == x.len_ass else 0 ,axis=1)\n",
    "    # last_same_df['last_same2'] = last_same_df.apply(lambda x : 1 if x.test_time_sort == x.len_ass else 0 ,axis=1)\n",
    "    # df = pd.merge(df, last_same_df[['userID','testId','last_same1']], on=['userID','testId'], how=\"left\")\n",
    "    # df = pd.merge(df, last_same_df[['userID','testId','last_same2']], on=['userID','testId'], how=\"left\")\n",
    "    \n",
    "\n",
    "    \n",
    "    \n",
    "    # testId와 KnowledgeTag의 전체 정답률은 한번에 계산\n",
    "    # 아래 데이터는 제출용 데이터셋에 대해서도 재사용\n",
    "    correct_t = df2.groupby(['testId'])['answerCode'].agg(['mean', 'sum'])\n",
    "    correct_t.columns = [\"test_mean\", 'test_sum']\n",
    "    correct_k = df2.groupby(['KnowledgeTag'])['answerCode'].agg(['mean', 'sum'])\n",
    "    correct_k.columns = [\"tag_mean\", 'tag_sum']\n",
    "    correct_a = df2.groupby(['assessmentItemID'])['answerCode'].agg(['mean', 'sum'])\n",
    "    correct_a.columns = [\"ass_mean\", 'ass_sum']\n",
    "    # 유저별로도 정답률 평균 등 구함\n",
    "    correct_u = df2.groupby(['userID'])['answerCode'].agg(['mean', 'sum'])\n",
    "    correct_u.columns = [\"u_mean\", 'u_sum']\n",
    "    \n",
    "    last_correct = pd.DataFrame(df2.groupby('userID').apply(user_last_ar,k=5))\n",
    "    last_correct.columns = [\"last_correct\"]\n",
    "    \n",
    "    \n",
    "    df = pd.merge(df, correct_t, on=['testId'], how=\"left\")\n",
    "    df = pd.merge(df, correct_k, on=['KnowledgeTag'], how=\"left\")\n",
    "    df = pd.merge(df, correct_a, on=['assessmentItemID'], how=\"left\")\n",
    "    df = pd.merge(df, correct_u, on=['userID'], how=\"left\")\n",
    "    \n",
    "    df = pd.merge(df, last_correct, on=['userID'], how=\"left\")\n",
    "    \n",
    "    return df"
   ]
  },
  {
   "cell_type": "code",
   "execution_count": 50,
   "metadata": {
    "ExecuteTime": {
     "end_time": "2021-05-24T09:49:29.683739Z",
     "start_time": "2021-05-24T09:49:28.981Z"
    },
    "id": "2vsUwksMhfQy"
   },
   "outputs": [],
   "source": [
    "new_df = feature_engineering(new_df,test_test_index)"
   ]
  },
  {
   "cell_type": "code",
   "execution_count": 51,
   "metadata": {},
   "outputs": [],
   "source": [
    "tests_answer_ratio = new_df.drop_duplicates('testId')[['testId','test_mean']]"
   ]
  },
  {
   "cell_type": "code",
   "execution_count": 52,
   "metadata": {},
   "outputs": [],
   "source": [
    "# 유저 별 시험 본 test들의 평균 정답률\n",
    "def user_test_mean(a):\n",
    "    return np.mean(tests_answer_ratio[tests_answer_ratio.testId.isin(a.testId.unique())].test_mean)"
   ]
  },
  {
   "cell_type": "code",
   "execution_count": 53,
   "metadata": {},
   "outputs": [],
   "source": [
    "user_test_mean_df = pd.DataFrame(new_df.groupby('userID').apply(user_test_mean))\n",
    "user_test_mean_df.columns = [\"user_test_mean\"]"
   ]
  },
  {
   "cell_type": "code",
   "execution_count": 54,
   "metadata": {},
   "outputs": [],
   "source": [
    "new_df = pd.merge(new_df, user_test_mean_df, on=['userID'], how=\"left\")"
   ]
  },
  {
   "cell_type": "code",
   "execution_count": 55,
   "metadata": {},
   "outputs": [
    {
     "data": {
      "text/html": [
       "<div>\n",
       "<style scoped>\n",
       "    .dataframe tbody tr th:only-of-type {\n",
       "        vertical-align: middle;\n",
       "    }\n",
       "\n",
       "    .dataframe tbody tr th {\n",
       "        vertical-align: top;\n",
       "    }\n",
       "\n",
       "    .dataframe thead th {\n",
       "        text-align: right;\n",
       "    }\n",
       "</style>\n",
       "<table border=\"1\" class=\"dataframe\">\n",
       "  <thead>\n",
       "    <tr style=\"text-align: right;\">\n",
       "      <th></th>\n",
       "      <th>userID</th>\n",
       "      <th>assessmentItemID</th>\n",
       "      <th>testId</th>\n",
       "      <th>answerCode</th>\n",
       "      <th>Timestamp</th>\n",
       "      <th>KnowledgeTag</th>\n",
       "      <th>unique_testid</th>\n",
       "      <th>time_diff</th>\n",
       "      <th>seconds2</th>\n",
       "      <th>seconds</th>\n",
       "      <th>...</th>\n",
       "      <th>test_mean</th>\n",
       "      <th>test_sum</th>\n",
       "      <th>tag_mean</th>\n",
       "      <th>tag_sum</th>\n",
       "      <th>ass_mean</th>\n",
       "      <th>ass_sum</th>\n",
       "      <th>u_mean</th>\n",
       "      <th>u_sum</th>\n",
       "      <th>last_correct</th>\n",
       "      <th>user_test_mean</th>\n",
       "    </tr>\n",
       "  </thead>\n",
       "  <tbody>\n",
       "    <tr>\n",
       "      <th>0</th>\n",
       "      <td>3</td>\n",
       "      <td>A050023001</td>\n",
       "      <td>A050000023</td>\n",
       "      <td>1</td>\n",
       "      <td>2020-01-09 10:56:31</td>\n",
       "      <td>2626</td>\n",
       "      <td>1</td>\n",
       "      <td>None</td>\n",
       "      <td>NaN</td>\n",
       "      <td>NaN</td>\n",
       "      <td>...</td>\n",
       "      <td>0.575139</td>\n",
       "      <td>930</td>\n",
       "      <td>0.648995</td>\n",
       "      <td>1065</td>\n",
       "      <td>0.692641</td>\n",
       "      <td>160</td>\n",
       "      <td>0.693424</td>\n",
       "      <td>717.0</td>\n",
       "      <td>1.0</td>\n",
       "      <td>0.685499</td>\n",
       "    </tr>\n",
       "    <tr>\n",
       "      <th>1</th>\n",
       "      <td>3</td>\n",
       "      <td>A050023002</td>\n",
       "      <td>A050000023</td>\n",
       "      <td>1</td>\n",
       "      <td>2020-01-09 10:56:57</td>\n",
       "      <td>2626</td>\n",
       "      <td>1</td>\n",
       "      <td>0 days 00:00:26</td>\n",
       "      <td>26.0</td>\n",
       "      <td>26.0</td>\n",
       "      <td>...</td>\n",
       "      <td>0.575139</td>\n",
       "      <td>930</td>\n",
       "      <td>0.648995</td>\n",
       "      <td>1065</td>\n",
       "      <td>0.649351</td>\n",
       "      <td>150</td>\n",
       "      <td>0.693424</td>\n",
       "      <td>717.0</td>\n",
       "      <td>1.0</td>\n",
       "      <td>0.685499</td>\n",
       "    </tr>\n",
       "    <tr>\n",
       "      <th>2</th>\n",
       "      <td>3</td>\n",
       "      <td>A050023003</td>\n",
       "      <td>A050000023</td>\n",
       "      <td>0</td>\n",
       "      <td>2020-01-09 10:58:31</td>\n",
       "      <td>2625</td>\n",
       "      <td>1</td>\n",
       "      <td>0 days 00:01:34</td>\n",
       "      <td>94.0</td>\n",
       "      <td>94.0</td>\n",
       "      <td>...</td>\n",
       "      <td>0.575139</td>\n",
       "      <td>930</td>\n",
       "      <td>0.671922</td>\n",
       "      <td>1577</td>\n",
       "      <td>0.571429</td>\n",
       "      <td>132</td>\n",
       "      <td>0.693424</td>\n",
       "      <td>717.0</td>\n",
       "      <td>1.0</td>\n",
       "      <td>0.685499</td>\n",
       "    </tr>\n",
       "    <tr>\n",
       "      <th>3</th>\n",
       "      <td>3</td>\n",
       "      <td>A050023004</td>\n",
       "      <td>A050000023</td>\n",
       "      <td>0</td>\n",
       "      <td>2020-01-09 10:58:36</td>\n",
       "      <td>2625</td>\n",
       "      <td>1</td>\n",
       "      <td>0 days 00:00:05</td>\n",
       "      <td>5.0</td>\n",
       "      <td>5.0</td>\n",
       "      <td>...</td>\n",
       "      <td>0.575139</td>\n",
       "      <td>930</td>\n",
       "      <td>0.671922</td>\n",
       "      <td>1577</td>\n",
       "      <td>0.653680</td>\n",
       "      <td>151</td>\n",
       "      <td>0.693424</td>\n",
       "      <td>717.0</td>\n",
       "      <td>1.0</td>\n",
       "      <td>0.685499</td>\n",
       "    </tr>\n",
       "    <tr>\n",
       "      <th>4</th>\n",
       "      <td>3</td>\n",
       "      <td>A050023006</td>\n",
       "      <td>A050000023</td>\n",
       "      <td>0</td>\n",
       "      <td>2020-01-09 10:58:43</td>\n",
       "      <td>2623</td>\n",
       "      <td>1</td>\n",
       "      <td>0 days 00:00:07</td>\n",
       "      <td>7.0</td>\n",
       "      <td>7.0</td>\n",
       "      <td>...</td>\n",
       "      <td>0.575139</td>\n",
       "      <td>930</td>\n",
       "      <td>0.580471</td>\n",
       "      <td>2467</td>\n",
       "      <td>0.320346</td>\n",
       "      <td>74</td>\n",
       "      <td>0.693424</td>\n",
       "      <td>717.0</td>\n",
       "      <td>1.0</td>\n",
       "      <td>0.685499</td>\n",
       "    </tr>\n",
       "  </tbody>\n",
       "</table>\n",
       "<p>5 rows × 39 columns</p>\n",
       "</div>"
      ],
      "text/plain": [
       "   userID assessmentItemID      testId  answerCode           Timestamp  \\\n",
       "0       3       A050023001  A050000023           1 2020-01-09 10:56:31   \n",
       "1       3       A050023002  A050000023           1 2020-01-09 10:56:57   \n",
       "2       3       A050023003  A050000023           0 2020-01-09 10:58:31   \n",
       "3       3       A050023004  A050000023           0 2020-01-09 10:58:36   \n",
       "4       3       A050023006  A050000023           0 2020-01-09 10:58:43   \n",
       "\n",
       "   KnowledgeTag  unique_testid        time_diff  seconds2  seconds  ...  \\\n",
       "0          2626              1             None       NaN      NaN  ...   \n",
       "1          2626              1  0 days 00:00:26      26.0     26.0  ...   \n",
       "2          2625              1  0 days 00:01:34      94.0     94.0  ...   \n",
       "3          2625              1  0 days 00:00:05       5.0      5.0  ...   \n",
       "4          2623              1  0 days 00:00:07       7.0      7.0  ...   \n",
       "\n",
       "   test_mean  test_sum  tag_mean  tag_sum  ass_mean  ass_sum    u_mean  u_sum  \\\n",
       "0   0.575139       930  0.648995     1065  0.692641      160  0.693424  717.0   \n",
       "1   0.575139       930  0.648995     1065  0.649351      150  0.693424  717.0   \n",
       "2   0.575139       930  0.671922     1577  0.571429      132  0.693424  717.0   \n",
       "3   0.575139       930  0.671922     1577  0.653680      151  0.693424  717.0   \n",
       "4   0.575139       930  0.580471     2467  0.320346       74  0.693424  717.0   \n",
       "\n",
       "   last_correct  user_test_mean  \n",
       "0           1.0        0.685499  \n",
       "1           1.0        0.685499  \n",
       "2           1.0        0.685499  \n",
       "3           1.0        0.685499  \n",
       "4           1.0        0.685499  \n",
       "\n",
       "[5 rows x 39 columns]"
      ]
     },
     "execution_count": 55,
     "metadata": {},
     "output_type": "execute_result"
    }
   ],
   "source": [
    "new_df.head()"
   ]
  },
  {
   "cell_type": "markdown",
   "metadata": {
    "id": "5VZzei3DhfQy"
   },
   "source": [
    "## 3. Train/Test 데이터 셋 분리"
   ]
  },
  {
   "cell_type": "code",
   "execution_count": 56,
   "metadata": {},
   "outputs": [],
   "source": [
    "# test 인덱스\n",
    "test = new_df.iloc[test_test_index]"
   ]
  },
  {
   "cell_type": "code",
   "execution_count": 57,
   "metadata": {},
   "outputs": [],
   "source": [
    "# train 인덱스\n",
    "train_index = set(new_df.index) - set(test.index)"
   ]
  },
  {
   "cell_type": "code",
   "execution_count": 58,
   "metadata": {},
   "outputs": [],
   "source": [
    "# 최종 제출용 데이터셋 분리\n",
    "test, test_df = custom_train_test_split(test,1)"
   ]
  },
  {
   "cell_type": "code",
   "execution_count": 59,
   "metadata": {},
   "outputs": [],
   "source": [
    "test.sort_values(by=['userID','Timestamp'], inplace=True)"
   ]
  },
  {
   "cell_type": "code",
   "execution_count": 60,
   "metadata": {},
   "outputs": [],
   "source": [
    "test_df.sort_values(by=['userID','Timestamp'], inplace=True)"
   ]
  },
  {
   "cell_type": "code",
   "execution_count": 61,
   "metadata": {},
   "outputs": [
    {
     "name": "stderr",
     "output_type": "stream",
     "text": [
      "<ipython-input-61-a54b5808724c>:1: FutureWarning: Passing a set as an indexer is deprecated and will raise in a future version. Use a list instead.\n",
      "  train = new_df.loc[train_index]\n"
     ]
    }
   ],
   "source": [
    "train = new_df.loc[train_index]"
   ]
  },
  {
   "cell_type": "code",
   "execution_count": 62,
   "metadata": {},
   "outputs": [],
   "source": [
    "# # 모든 데이터셋 포함해서 다시 학습하기 위한 데이터셋\n",
    "again_total_df = pd.concat([train,test])"
   ]
  },
  {
   "cell_type": "markdown",
   "metadata": {},
   "source": [
    "### 최종 사용할 Feature 선정"
   ]
  },
  {
   "cell_type": "code",
   "execution_count": 63,
   "metadata": {
    "ExecuteTime": {
     "end_time": "2021-05-24T09:49:29.686739Z",
     "start_time": "2021-05-24T09:49:28.984Z"
    },
    "id": "i3HzdoybhfQ0"
   },
   "outputs": [],
   "source": [
    "FEATS = [  'seconds','user_correct_answer','user_total_answer','before_correct', 'before_correct2','rolling_10','seconds_mean',\n",
    "         'user_acc',  'tag_mean','sort_assess','test_mean','test_sum', 'ass_mean','u_mean','u_sum']"
   ]
  },
  {
   "cell_type": "code",
   "execution_count": 64,
   "metadata": {},
   "outputs": [],
   "source": [
    "# X, y 값 분리\n",
    "y_train = train['answerCode']\n",
    "train = train.drop(['answerCode'], axis=1)\n",
    "\n",
    "y_test = test['answerCode']\n",
    "test = test.drop(['answerCode'], axis=1)"
   ]
  },
  {
   "cell_type": "markdown",
   "metadata": {},
   "source": [
    "### scaler 시도 - 오히려 안 좋아져서 사용 안함"
   ]
  },
  {
   "cell_type": "code",
   "execution_count": 1150,
   "metadata": {},
   "outputs": [],
   "source": [
    "# scaler = StandardScaler()\n",
    "# # scaler.fit(train[FEATS])"
   ]
  },
  {
   "cell_type": "code",
   "execution_count": 1151,
   "metadata": {},
   "outputs": [],
   "source": [
    "# from sklearn.preprocessing import MinMaxScaler\n",
    "\n",
    "# scaler = MinMaxScaler()\n",
    "# scaler.fit(train[FEATS])"
   ]
  },
  {
   "cell_type": "code",
   "execution_count": 1152,
   "metadata": {},
   "outputs": [],
   "source": [
    "# from sklearn.preprocessing import RobustScaler\n",
    "\n",
    "# scaler = RobustScaler()\n",
    "# scaler.fit(train[FEATS])"
   ]
  },
  {
   "cell_type": "code",
   "execution_count": 1153,
   "metadata": {},
   "outputs": [],
   "source": [
    "# from sklearn.preprocessing import MaxAbsScaler\n",
    "# scaler = MaxAbsScaler()\n",
    "# scaler.fit(train[FEATS])"
   ]
  },
  {
   "cell_type": "code",
   "execution_count": 1154,
   "metadata": {},
   "outputs": [],
   "source": [
    "# tf1 = train[FEATS]\n",
    "# tf2 = test[FEATS]\n",
    "# scaler.fit(tf1)\n",
    "# tf1.loc[:,FEATS] = scaler.transform(tf1)\n",
    "# tf2.loc[:,FEATS] = scaler.transform(tf2)\n",
    "\n",
    "# lgb_train = lgb.Dataset(tf1, y_train)\n",
    "# lgb_test = lgb.Dataset(tf2, y_test)"
   ]
  },
  {
   "cell_type": "code",
   "execution_count": 1155,
   "metadata": {},
   "outputs": [],
   "source": [
    "# train['seconds3'] = train.apply(lambda x : None if pd.isnull(x.seconds2) else x.seconds2 if x.seconds2 < 1080 else 1080, axis=1)"
   ]
  },
  {
   "cell_type": "code",
   "execution_count": 1156,
   "metadata": {},
   "outputs": [],
   "source": [
    "# test['seconds3'] = test.apply(lambda x : None if pd.isnull(x.seconds2) else x.seconds2 if x.seconds2 < 1080 else 1080, axis=1)"
   ]
  },
  {
   "cell_type": "code",
   "execution_count": 1178,
   "metadata": {},
   "outputs": [],
   "source": []
  },
  {
   "cell_type": "markdown",
   "metadata": {
    "id": "KiHss_BBhfQ2"
   },
   "source": [
    "## 4. 훈련 및 검증 - k fold 시도"
   ]
  },
  {
   "cell_type": "code",
   "execution_count": 1239,
   "metadata": {},
   "outputs": [],
   "source": [
    "folds = KFold(n_splits = 2, shuffle = True, random_state = 42)\n",
    "oof_preds = np.zeros(train.shape[0])"
   ]
  },
  {
   "cell_type": "code",
   "execution_count": 66,
   "metadata": {},
   "outputs": [],
   "source": [
    "# lgbm 하이퍼 파라미터\n",
    "params = {'learning_rate': 0.01, \n",
    "          'max_depth': 16, \n",
    "          'boosting': 'gbdt', \n",
    "          'objective': 'binary', \n",
    "          'is_training_metric': True, \n",
    "          'num_leaves': 144, \n",
    "          'feature_fraction': 0.9, \n",
    "          'bagging_fraction': 0.7, \n",
    "          'bagging_freq': 5}"
   ]
  },
  {
   "cell_type": "code",
   "execution_count": 1241,
   "metadata": {},
   "outputs": [
    {
     "name": "stderr",
     "output_type": "stream",
     "text": [
      "/opt/conda/lib/python3.8/site-packages/lightgbm/engine.py:181: UserWarning: 'early_stopping_rounds' argument is deprecated and will be removed in a future release of LightGBM. Pass 'early_stopping()' callback via 'callbacks' argument instead.\n",
      "  _log_warning(\"'early_stopping_rounds' argument is deprecated and will be removed in a future release of LightGBM. \"\n",
      "/opt/conda/lib/python3.8/site-packages/lightgbm/engine.py:239: UserWarning: 'verbose_eval' argument is deprecated and will be removed in a future release of LightGBM. Pass 'log_evaluation()' callback via 'callbacks' argument instead.\n",
      "  _log_warning(\"'verbose_eval' argument is deprecated and will be removed in a future release of LightGBM. \"\n"
     ]
    },
    {
     "name": "stdout",
     "output_type": "stream",
     "text": [
      "[LightGBM] [Info] Number of positive: 826251, number of negative: 436355\n",
      "[LightGBM] [Warning] Auto-choosing row-wise multi-threading, the overhead of testing was 0.011811 seconds.\n",
      "You can set `force_row_wise=true` to remove the overhead.\n",
      "And if memory is not enough, you can set `force_col_wise=true`.\n",
      "[LightGBM] [Info] Total Bins 2835\n",
      "[LightGBM] [Info] Number of data points in the train set: 1262606, number of used features: 15\n",
      "[LightGBM] [Info] [binary:BoostFromScore]: pavg=0.654401 -> initscore=0.638442\n",
      "[LightGBM] [Info] Start training from score 0.638442\n",
      "Training until validation scores don't improve for 100 rounds\n",
      "[1000]\tvalid_0's binary_logloss: 0.450226\n",
      "[2000]\tvalid_0's binary_logloss: 0.44898\n",
      "[3000]\tvalid_0's binary_logloss: 0.448314\n",
      "[4000]\tvalid_0's binary_logloss: 0.447961\n",
      "[5000]\tvalid_0's binary_logloss: 0.447705\n",
      "[6000]\tvalid_0's binary_logloss: 0.447527\n",
      "[7000]\tvalid_0's binary_logloss: 0.447419\n",
      "Early stopping, best iteration is:\n",
      "[7830]\tvalid_0's binary_logloss: 0.447347\n",
      "[LightGBM] [Info] Number of positive: 826924, number of negative: 435682\n",
      "[LightGBM] [Warning] Auto-choosing row-wise multi-threading, the overhead of testing was 0.011389 seconds.\n",
      "You can set `force_row_wise=true` to remove the overhead.\n",
      "And if memory is not enough, you can set `force_col_wise=true`.\n",
      "[LightGBM] [Info] Total Bins 2835\n",
      "[LightGBM] [Info] Number of data points in the train set: 1262606, number of used features: 15\n",
      "[LightGBM] [Info] [binary:BoostFromScore]: pavg=0.654934 -> initscore=0.640800\n",
      "[LightGBM] [Info] Start training from score 0.640800\n",
      "Training until validation scores don't improve for 100 rounds\n",
      "[1000]\tvalid_0's binary_logloss: 0.450187\n",
      "[2000]\tvalid_0's binary_logloss: 0.448991\n",
      "[3000]\tvalid_0's binary_logloss: 0.448364\n",
      "[4000]\tvalid_0's binary_logloss: 0.447982\n",
      "[5000]\tvalid_0's binary_logloss: 0.447715\n",
      "[6000]\tvalid_0's binary_logloss: 0.44752\n",
      "[7000]\tvalid_0's binary_logloss: 0.447406\n",
      "Early stopping, best iteration is:\n",
      "[7465]\tvalid_0's binary_logloss: 0.447318\n",
      "VALID AUC : 0.8453362398776911 ACC : 0.760752688172043\n",
      "\n"
     ]
    }
   ],
   "source": [
    "tF = train[FEATS]\n",
    "testF = test[FEATS]\n",
    "sub_preds_lgm = np.zeros(test.shape[0])\n",
    "\n",
    "for n_fold, (trn_idx, val_idx) in enumerate(folds.split(tF)) : \n",
    "    trn_x, trn_y = tF.iloc[trn_idx], y_train.iloc[trn_idx] \n",
    "    val_x, val_y = tF.iloc[val_idx], y_train.iloc[val_idx] \n",
    "    train_T = lgb.Dataset(trn_x, label=trn_y) \n",
    "    val_T = lgb.Dataset(val_x, label=val_y) \n",
    "    model = lgb.train(params, train_T, 10000, val_T, verbose_eval=1000, early_stopping_rounds=100) \n",
    "    sub_preds_lgm += model.predict(testF) / folds.n_splits \n",
    "    # oof_preds[val_idx] = model.predict(val_x) \n",
    "\n",
    "acc = accuracy_score(y_test, np.where(sub_preds_lgm >= 0.5, 1, 0))\n",
    "auc = roc_auc_score(y_test, sub_preds_lgm)\n",
    "\n",
    "print(f'VALID AUC : {auc} ACC : {acc}\\n')"
   ]
  },
  {
   "cell_type": "markdown",
   "metadata": {},
   "source": [
    "## k fold 사용 안 했을 때 - 현재 가장 높은 점수"
   ]
  },
  {
   "cell_type": "code",
   "execution_count": 1234,
   "metadata": {},
   "outputs": [],
   "source": [
    "lgb_train = lgb.Dataset(train[FEATS], y_train)\n",
    "lgb_test = lgb.Dataset(test[FEATS], y_test)"
   ]
  },
  {
   "cell_type": "code",
   "execution_count": 1235,
   "metadata": {},
   "outputs": [
    {
     "name": "stderr",
     "output_type": "stream",
     "text": [
      "/opt/conda/lib/python3.8/site-packages/lightgbm/engine.py:181: UserWarning: 'early_stopping_rounds' argument is deprecated and will be removed in a future release of LightGBM. Pass 'early_stopping()' callback via 'callbacks' argument instead.\n",
      "  _log_warning(\"'early_stopping_rounds' argument is deprecated and will be removed in a future release of LightGBM. \"\n",
      "/opt/conda/lib/python3.8/site-packages/lightgbm/engine.py:239: UserWarning: 'verbose_eval' argument is deprecated and will be removed in a future release of LightGBM. Pass 'log_evaluation()' callback via 'callbacks' argument instead.\n",
      "  _log_warning(\"'verbose_eval' argument is deprecated and will be removed in a future release of LightGBM. \"\n"
     ]
    },
    {
     "name": "stdout",
     "output_type": "stream",
     "text": [
      "[LightGBM] [Info] Number of positive: 1653175, number of negative: 872037\n",
      "[LightGBM] [Warning] Auto-choosing row-wise multi-threading, the overhead of testing was 0.023105 seconds.\n",
      "You can set `force_row_wise=true` to remove the overhead.\n",
      "And if memory is not enough, you can set `force_col_wise=true`.\n",
      "[LightGBM] [Info] Total Bins 2834\n",
      "[LightGBM] [Info] Number of data points in the train set: 2525212, number of used features: 15\n",
      "[LightGBM] [Info] [binary:BoostFromScore]: pavg=0.654668 -> initscore=0.639621\n",
      "[LightGBM] [Info] Start training from score 0.639621\n",
      "Training until validation scores don't improve for 100 rounds\n",
      "[200]\ttraining's binary_logloss: 0.466153\tvalid_1's binary_logloss: 0.507327\n",
      "[400]\ttraining's binary_logloss: 0.452574\tvalid_1's binary_logloss: 0.49333\n",
      "[600]\ttraining's binary_logloss: 0.448988\tvalid_1's binary_logloss: 0.489183\n",
      "[800]\ttraining's binary_logloss: 0.446803\tvalid_1's binary_logloss: 0.486443\n",
      "[1000]\ttraining's binary_logloss: 0.445181\tvalid_1's binary_logloss: 0.485768\n",
      "Early stopping, best iteration is:\n",
      "[1093]\ttraining's binary_logloss: 0.444511\tvalid_1's binary_logloss: 0.485505\n",
      "VALID AUC : 0.8449192775579175 ACC : 0.7634408602150538\n",
      "\n"
     ]
    }
   ],
   "source": [
    "model = lgb.train(params,\n",
    "    lgb_train,\n",
    "    valid_sets=[lgb_train, lgb_test],\n",
    "    verbose_eval=200,\n",
    "    num_boost_round=10000,\n",
    "    early_stopping_rounds=100\n",
    ")\n",
    "\n",
    "preds = model.predict(test[FEATS])\n",
    "\n",
    "### scaler 할 떄\n",
    "# preds = model.predict(tf2)\n",
    "\n",
    "acc = accuracy_score(y_test, np.where(preds >= 0.5, 1, 0))\n",
    "auc = roc_auc_score(y_test, preds)\n",
    "\n",
    "print(f'VALID AUC : {auc} ACC : {acc}\\n')"
   ]
  },
  {
   "cell_type": "markdown",
   "metadata": {},
   "source": [
    "## catboost 사용"
   ]
  },
  {
   "cell_type": "code",
   "execution_count": 1227,
   "metadata": {},
   "outputs": [],
   "source": [
    "cb_model = CatBoostRegressor(iterations=1500, learning_rate=0.1, depth=4, l2_leaf_reg=20, bootstrap_type='Bernoulli', subsample=0.6, metric_period=50, od_type='Iter', od_wait=45, random_seed=42, allow_writing_files=False)\n",
    "# cb_model = CatBoostClassifier(iterations=1500,learning_rate=0.1, depth=4, l2_leaf_reg=20, bootstrap_type='Bernoulli', subsample=0.6, metric_period=50, od_type='Iter', od_wait=45, random_seed=42, allow_writing_files=False)"
   ]
  },
  {
   "cell_type": "code",
   "execution_count": 1,
   "metadata": {},
   "outputs": [],
   "source": [
    "cb_model.fit( \n",
    "    train[FEATS],y_train,\n",
    "    eval_set=(test[FEATS], y_test),\n",
    "    verbose=200,\n",
    "    use_best_model=True,\n",
    ")\n",
    "\n",
    "preds = cb_model.predict(test[FEATS])\n",
    "\n",
    "### scaler 할 떄\n",
    "# preds = model.predict(tf2)\n",
    "\n",
    "acc = accuracy_score(y_test, np.where(preds >= 0.5, 1, 0))\n",
    "auc = roc_auc_score(y_test, preds)\n",
    "\n",
    "print(f'VALID AUC : {auc} ACC : {acc}\\n')"
   ]
  },
  {
   "cell_type": "markdown",
   "metadata": {},
   "source": [
    "## feature importance - 높거나 낮음이 절대적인 영향 주지는 않음"
   ]
  },
  {
   "cell_type": "code",
   "execution_count": null,
   "metadata": {
    "ExecuteTime": {
     "end_time": "2021-05-24T09:49:29.690738Z",
     "start_time": "2021-05-24T09:49:28.989Z"
    },
    "id": "CKRjM0rxhfQ2"
   },
   "outputs": [
    {
     "data": {
      "image/png": "[encoded data removed]",
      "text/plain": [
       "<Figure size 432x288 with 1 Axes>"
      ]
     },
     "metadata": {
      "needs_background": "light"
     },
     "output_type": "display_data"
    }
   ],
   "source": [
    "# INSTALL MATPLOTLIB IN ADVANCE\n",
    "_ = lgb.plot_importance(model)"
   ]
  },
  {
   "cell_type": "markdown",
   "metadata": {
    "id": "8Bsff1ZVhfQ3"
   },
   "source": [
    "## 5. Inference"
   ]
  },
  {
   "cell_type": "code",
   "execution_count": 586,
   "metadata": {},
   "outputs": [
    {
     "name": "stderr",
     "output_type": "stream",
     "text": [
      "<ipython-input-586-c8c6b2d17e29>:3: SettingWithCopyWarning: \n",
      "A value is trying to be set on a copy of a slice from a DataFrame.\n",
      "Try using .loc[row_indexer,col_indexer] = value instead\n",
      "\n",
      "See the caveats in the documentation: https://pandas.pydata.org/pandas-docs/stable/user_guide/indexing.html#returning-a-view-versus-a-copy\n",
      "  scaler_tf.loc[:,FEATS] = scaler.transform(scaler_tf)\n"
     ]
    }
   ],
   "source": [
    "# ## scaler 할 때\n",
    "# scaler_tf = test_df[FEATS]\n",
    "# scaler_tf.loc[:,FEATS] = scaler.transform(scaler_tf)\n",
    "# # MAKE PREDICTION\n",
    "# total_preds = model.predict(scaler_tf)"
   ]
  },
  {
   "cell_type": "code",
   "execution_count": 1081,
   "metadata": {
    "ExecuteTime": {
     "end_time": "2021-05-24T09:49:29.692739Z",
     "start_time": "2021-05-24T09:49:28.993Z"
    },
    "id": "XnwXJs_shfQ4"
   },
   "outputs": [],
   "source": [
    "# MAKE PREDICTION\n",
    "total_preds = model.predict(test_df[FEATS])"
   ]
  },
  {
   "cell_type": "code",
   "execution_count": 1082,
   "metadata": {
    "ExecuteTime": {
     "end_time": "2021-05-24T09:49:29.694736Z",
     "start_time": "2021-05-24T09:49:28.995Z"
    },
    "id": "f8PvohzwhfQ4"
   },
   "outputs": [
    {
     "name": "stdout",
     "output_type": "stream",
     "text": [
      "writing prediction : output/tag_seconds_mean.csv\n"
     ]
    }
   ],
   "source": [
    "# SAVE OUTPUT\n",
    "output_dir = 'output/'\n",
    "write_path = os.path.join(output_dir, \"submission_name넣기.csv\")\n",
    "if not os.path.exists(output_dir):\n",
    "    os.makedirs(output_dir)\n",
    "with open(write_path, 'w', encoding='utf8') as w:\n",
    "    print(\"writing prediction : {}\".format(write_path))\n",
    "    w.write(\"id,prediction\\n\")\n",
    "    for id, p in enumerate(total_preds):\n",
    "        w.write('{},{}\\n'.format(id,p))"
   ]
  },
  {
   "cell_type": "code",
   "execution_count": null,
   "metadata": {},
   "outputs": [],
   "source": []
  }
 ],
 "metadata": {
  "colab": {
   "collapsed_sections": [],
   "name": "(미션-2) LGBM Baseline.ipynb",
   "provenance": []
  },
  "kernelspec": {
   "display_name": "Python 3",
   "language": "python",
   "name": "python3"
  },
  "language_info": {
   "codemirror_mode": {
    "name": "ipython",
    "version": 3
   },
   "file_extension": ".py",
   "mimetype": "text/x-python",
   "name": "python",
   "nbconvert_exporter": "python",
   "pygments_lexer": "ipython3",
   "version": "3.8.5"
  },
  "toc": {
   "base_numbering": 1,
   "nav_menu": {},
   "number_sections": false,
   "sideBar": true,
   "skip_h1_title": false,
   "title_cell": "Table of Contents",
   "title_sidebar": "Contents",
   "toc_cell": false,
   "toc_position": {},
   "toc_section_display": true,
   "toc_window_display": true
  }
 },
 "nbformat": 4,
 "nbformat_minor": 4
}
